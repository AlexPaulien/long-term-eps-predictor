{
 "cells": [
  {
   "cell_type": "markdown",
   "id": "910fbed6",
   "metadata": {},
   "source": [
    "# Exploratory Data Analysis Notebook\n",
    "\n",
    "In this notebook I explore the dataset I created using data from AlphaVantage. It is always a good idea to have a good sense of what the data are about before doing any modeling. Data explorations allow us to have a sense of the different variables we have at our disposal. It also allows us to know what type of data cleaning we will have to do (getting rid of some rows, inputting some missing values) and get some understanding about how the features interact with each others."
   ]
  },
  {
   "cell_type": "markdown",
   "id": "43f9d5db",
   "metadata": {},
   "source": [
    "## Libraries"
   ]
  },
  {
   "cell_type": "code",
   "execution_count": 4,
   "id": "cfcaa277",
   "metadata": {},
   "outputs": [],
   "source": [
    "import pandas as pd\n",
    "import numpy as np\n",
    "\n",
    "import matplotlib.pyplot as plt\n",
    "import seaborn as sns"
   ]
  },
  {
   "cell_type": "markdown",
   "id": "007332a2",
   "metadata": {},
   "source": [
    "## Data\n",
    "\n",
    "We can load the dataset we created for ourselves using data from the AlphaVantage API. We will then be able to explore the data to see whether we can find something of value for our upcoming modeling task."
   ]
  },
  {
   "cell_type": "code",
   "execution_count": 2,
   "id": "5fe1eff7",
   "metadata": {},
   "outputs": [],
   "source": [
    "data = pd.read_csv('../data/preprocessed/preprocessed_data_with_target.csv')"
   ]
  },
  {
   "cell_type": "markdown",
   "id": "4362cc53",
   "metadata": {},
   "source": [
    "## Exploratory Data Analysis"
   ]
  },
  {
   "cell_type": "markdown",
   "id": "3ed3ba01",
   "metadata": {},
   "source": [
    "### Basics"
   ]
  },
  {
   "cell_type": "markdown",
   "id": "25525fb3",
   "metadata": {},
   "source": [
    "Here are some basics information about the dataset"
   ]
  },
  {
   "cell_type": "markdown",
   "id": "30efc007",
   "metadata": {},
   "source": [
    "#### Dimensions"
   ]
  },
  {
   "cell_type": "code",
   "execution_count": 7,
   "id": "82cd5dd1",
   "metadata": {},
   "outputs": [
    {
     "name": "stdout",
     "output_type": "stream",
     "text": [
      "The dataset consists in 3037 observations.\n"
     ]
    }
   ],
   "source": [
    "print(f\"The dataset consists in {len(data)} observations.\")"
   ]
  },
  {
   "cell_type": "markdown",
   "id": "c19739f6",
   "metadata": {},
   "source": [
    "#### Features & Features Types"
   ]
  },
  {
   "cell_type": "code",
   "execution_count": 8,
   "id": "59de24e8",
   "metadata": {},
   "outputs": [
    {
     "name": "stdout",
     "output_type": "stream",
     "text": [
      "The dataset consists in 67 features including the target.\n"
     ]
    }
   ],
   "source": [
    "print(f\"The dataset consists in {data.shape[1]} features including the target.\")"
   ]
  },
  {
   "cell_type": "code",
   "execution_count": 13,
   "id": "638c699b",
   "metadata": {},
   "outputs": [
    {
     "name": "stdout",
     "output_type": "stream",
     "text": [
      "The dataset consists in 63 numerical features\n"
     ]
    }
   ],
   "source": [
    "print(f\"The dataset consists in {data.select_dtypes('number').shape[1]} numerical features\")"
   ]
  },
  {
   "cell_type": "code",
   "execution_count": 23,
   "id": "17d6a721",
   "metadata": {},
   "outputs": [
    {
     "name": "stdout",
     "output_type": "stream",
     "text": [
      "The numerical features includes: ['year', 'totalAssets', 'totalCurrentAssets', 'cashAndCashEquivalentsAtCarryingValue', 'cashAndShortTermInvestments']\n"
     ]
    }
   ],
   "source": [
    "print(f\"The numerical features includes: {data.select_dtypes('number').columns.tolist()[:5]}\")"
   ]
  },
  {
   "cell_type": "code",
   "execution_count": 15,
   "id": "e12b753b",
   "metadata": {},
   "outputs": [
    {
     "name": "stdout",
     "output_type": "stream",
     "text": [
      "Conversely, the dataset consists in 4 non-numerical features\n"
     ]
    }
   ],
   "source": [
    "print(f\"Conversely, the dataset consists in {data.select_dtypes('object').shape[1]} non-numerical features\")"
   ]
  },
  {
   "cell_type": "code",
   "execution_count": 19,
   "id": "ec730f6f",
   "metadata": {},
   "outputs": [
    {
     "name": "stdout",
     "output_type": "stream",
     "text": [
      "The 4 non-numerical columns are: ['symbol', 'fiscalDateEnding', 'Sector', 'Industry']\n"
     ]
    }
   ],
   "source": [
    "print(f\"The {data.select_dtypes('object').shape[1]} non-numerical columns are: {data.select_dtypes('object').columns.tolist()}\")"
   ]
  },
  {
   "cell_type": "markdown",
   "id": "82b78c5c",
   "metadata": {},
   "source": [
    "To sum up, the dataset is comprised of 67 features, 63 of which are numerical. This leaves us with 4 non-numerical features: *symbol*, *fiscalDateEnding*, *Sector*, *Industry*. Among those 4, *symbol* and *fiscalDateEnding* will not be use for modeling but, combined together, as a way to identify each obervation. All in all, we have to deal with only two non-numerical features: *Sector* and *Industry* which both gives us information about the types of companies we are dealing with. We will see later on how we can deal with those variables."
   ]
  },
  {
   "cell_type": "markdown",
   "id": "5b4a8877",
   "metadata": {},
   "source": [
    "#### Missing Values"
   ]
  },
  {
   "cell_type": "markdown",
   "id": "45c50557",
   "metadata": {},
   "source": [
    "**Target variable**\n",
    "\n",
    "Since we constructed the target variable by shifting the data and merging back, we knew from the beginning that we would have missing values for the target variable. Indeed, we cannot know what would be the target for a 2022 obervation (for instance) as this would be akin to know the EPS in 2027 (using a 5 year shift as we did) which is impossible."
   ]
  },
  {
   "cell_type": "code",
   "execution_count": 29,
   "id": "dccac210",
   "metadata": {},
   "outputs": [
    {
     "name": "stdout",
     "output_type": "stream",
     "text": [
      "There are 1099 missing values in the target variable\n"
     ]
    }
   ],
   "source": [
    "print(f\"There are {int(data['futureEPS'].isna().sum())} missing values in the target variable\")"
   ]
  },
  {
   "cell_type": "markdown",
   "id": "b420ca7b",
   "metadata": {},
   "source": [
    "One thing we can do though is making sure that all those missing values are for observations from 2019 onwards."
   ]
  },
  {
   "cell_type": "code",
   "execution_count": 33,
   "id": "09d82d4b",
   "metadata": {},
   "outputs": [
    {
     "name": "stdout",
     "output_type": "stream",
     "text": [
      "Observation year with missing target values: [2013 2019 2020 2021 2022 2023 2024 2025]\n"
     ]
    }
   ],
   "source": [
    "print(f\"Observation year with missing target values: {data[data.futureEPS.isna()]['year'].unique()}\")"
   ]
  },
  {
   "cell_type": "markdown",
   "id": "89c3de58",
   "metadata": {},
   "source": [
    "Well, although I'm not too surprised to see years from 2019 onwards, having 2013 in the list is an issue as we should have been able to build the target for this year (i.e. EPS data from 2018). We need to investigate what happens with 2013 so as to dimension the problem (maybe only one company is involved)."
   ]
  },
  {
   "cell_type": "code",
   "execution_count": 37,
   "id": "9312a9fc",
   "metadata": {},
   "outputs": [
    {
     "data": {
      "text/html": [
       "<div>\n",
       "<style scoped>\n",
       "    .dataframe tbody tr th:only-of-type {\n",
       "        vertical-align: middle;\n",
       "    }\n",
       "\n",
       "    .dataframe tbody tr th {\n",
       "        vertical-align: top;\n",
       "    }\n",
       "\n",
       "    .dataframe thead th {\n",
       "        text-align: right;\n",
       "    }\n",
       "</style>\n",
       "<table border=\"1\" class=\"dataframe\">\n",
       "  <thead>\n",
       "    <tr style=\"text-align: right;\">\n",
       "      <th></th>\n",
       "      <th>symbol</th>\n",
       "      <th>fiscalDateEnding</th>\n",
       "    </tr>\n",
       "  </thead>\n",
       "  <tbody>\n",
       "    <tr>\n",
       "      <th>709</th>\n",
       "      <td>CSCO</td>\n",
       "      <td>2013-07-27</td>\n",
       "    </tr>\n",
       "  </tbody>\n",
       "</table>\n",
       "</div>"
      ],
      "text/plain": [
       "    symbol fiscalDateEnding\n",
       "709   CSCO       2013-07-27"
      ]
     },
     "execution_count": 37,
     "metadata": {},
     "output_type": "execute_result"
    }
   ],
   "source": [
    "data[(data.futureEPS.isna()) & (data['year'] == 2013)][['symbol', 'fiscalDateEnding']]"
   ]
  },
  {
   "cell_type": "markdown",
   "id": "26dcfa8a",
   "metadata": {},
   "source": [
    "Fortunately, only one observation from 2013, Cisco, has a missing target value. Since it is a 2013 observation, we can check whether we have a 2018 observation for Cisco. If so, the 2018 EPS of the 2018 Cisco observation can become the target of the 2013 Cisco observation."
   ]
  },
  {
   "cell_type": "code",
   "execution_count": 40,
   "id": "b798661c",
   "metadata": {},
   "outputs": [
    {
     "data": {
      "text/html": [
       "<div>\n",
       "<style scoped>\n",
       "    .dataframe tbody tr th:only-of-type {\n",
       "        vertical-align: middle;\n",
       "    }\n",
       "\n",
       "    .dataframe tbody tr th {\n",
       "        vertical-align: top;\n",
       "    }\n",
       "\n",
       "    .dataframe thead th {\n",
       "        text-align: right;\n",
       "    }\n",
       "</style>\n",
       "<table border=\"1\" class=\"dataframe\">\n",
       "  <thead>\n",
       "    <tr style=\"text-align: right;\">\n",
       "      <th></th>\n",
       "      <th>symbol</th>\n",
       "      <th>fiscalDateEnding</th>\n",
       "      <th>reportedEPS</th>\n",
       "    </tr>\n",
       "  </thead>\n",
       "  <tbody>\n",
       "  </tbody>\n",
       "</table>\n",
       "</div>"
      ],
      "text/plain": [
       "Empty DataFrame\n",
       "Columns: [symbol, fiscalDateEnding, reportedEPS]\n",
       "Index: []"
      ]
     },
     "execution_count": 40,
     "metadata": {},
     "output_type": "execute_result"
    }
   ],
   "source": [
    "data[(data.symbol == 'CSCO') & (data.year == 2018)][['symbol', 'fiscalDateEnding', 'reportedEPS']]"
   ]
  },
  {
   "cell_type": "markdown",
   "id": "0399e4ef",
   "metadata": {},
   "source": [
    "Apparently, we have no data for CISCO in 2018. Let's check what we have for CISCO in general:"
   ]
  },
  {
   "cell_type": "code",
   "execution_count": 41,
   "id": "6b35bc4e",
   "metadata": {},
   "outputs": [
    {
     "data": {
      "text/html": [
       "<div>\n",
       "<style scoped>\n",
       "    .dataframe tbody tr th:only-of-type {\n",
       "        vertical-align: middle;\n",
       "    }\n",
       "\n",
       "    .dataframe tbody tr th {\n",
       "        vertical-align: top;\n",
       "    }\n",
       "\n",
       "    .dataframe thead th {\n",
       "        text-align: right;\n",
       "    }\n",
       "</style>\n",
       "<table border=\"1\" class=\"dataframe\">\n",
       "  <thead>\n",
       "    <tr style=\"text-align: right;\">\n",
       "      <th></th>\n",
       "      <th>symbol</th>\n",
       "      <th>fiscalDateEnding</th>\n",
       "      <th>reportedEPS</th>\n",
       "    </tr>\n",
       "  </thead>\n",
       "  <tbody>\n",
       "    <tr>\n",
       "      <th>164</th>\n",
       "      <td>CSCO</td>\n",
       "      <td>2010-07-31</td>\n",
       "      <td>1.61</td>\n",
       "    </tr>\n",
       "    <tr>\n",
       "      <th>331</th>\n",
       "      <td>CSCO</td>\n",
       "      <td>2011-07-30</td>\n",
       "      <td>1.61</td>\n",
       "    </tr>\n",
       "    <tr>\n",
       "      <th>517</th>\n",
       "      <td>CSCO</td>\n",
       "      <td>2012-07-28</td>\n",
       "      <td>1.85</td>\n",
       "    </tr>\n",
       "    <tr>\n",
       "      <th>709</th>\n",
       "      <td>CSCO</td>\n",
       "      <td>2013-07-27</td>\n",
       "      <td>2.02</td>\n",
       "    </tr>\n",
       "    <tr>\n",
       "      <th>907</th>\n",
       "      <td>CSCO</td>\n",
       "      <td>2014-07-26</td>\n",
       "      <td>2.06</td>\n",
       "    </tr>\n",
       "    <tr>\n",
       "      <th>1106</th>\n",
       "      <td>CSCO</td>\n",
       "      <td>2015-07-25</td>\n",
       "      <td>2.20</td>\n",
       "    </tr>\n",
       "    <tr>\n",
       "      <th>1307</th>\n",
       "      <td>CSCO</td>\n",
       "      <td>2016-07-30</td>\n",
       "      <td>2.36</td>\n",
       "    </tr>\n",
       "    <tr>\n",
       "      <th>1510</th>\n",
       "      <td>CSCO</td>\n",
       "      <td>2017-07-29</td>\n",
       "      <td>2.39</td>\n",
       "    </tr>\n",
       "    <tr>\n",
       "      <th>1923</th>\n",
       "      <td>CSCO</td>\n",
       "      <td>2019-07-27</td>\n",
       "      <td>3.09</td>\n",
       "    </tr>\n",
       "    <tr>\n",
       "      <th>2136</th>\n",
       "      <td>CSCO</td>\n",
       "      <td>2020-07-25</td>\n",
       "      <td>3.20</td>\n",
       "    </tr>\n",
       "    <tr>\n",
       "      <th>2356</th>\n",
       "      <td>CSCO</td>\n",
       "      <td>2021-07-31</td>\n",
       "      <td>3.22</td>\n",
       "    </tr>\n",
       "    <tr>\n",
       "      <th>2578</th>\n",
       "      <td>CSCO</td>\n",
       "      <td>2022-07-30</td>\n",
       "      <td>3.36</td>\n",
       "    </tr>\n",
       "    <tr>\n",
       "      <th>2801</th>\n",
       "      <td>CSCO</td>\n",
       "      <td>2023-07-29</td>\n",
       "      <td>3.88</td>\n",
       "    </tr>\n",
       "    <tr>\n",
       "      <th>2982</th>\n",
       "      <td>CSCO</td>\n",
       "      <td>2024-07-27</td>\n",
       "      <td>3.73</td>\n",
       "    </tr>\n",
       "  </tbody>\n",
       "</table>\n",
       "</div>"
      ],
      "text/plain": [
       "     symbol fiscalDateEnding  reportedEPS\n",
       "164    CSCO       2010-07-31         1.61\n",
       "331    CSCO       2011-07-30         1.61\n",
       "517    CSCO       2012-07-28         1.85\n",
       "709    CSCO       2013-07-27         2.02\n",
       "907    CSCO       2014-07-26         2.06\n",
       "1106   CSCO       2015-07-25         2.20\n",
       "1307   CSCO       2016-07-30         2.36\n",
       "1510   CSCO       2017-07-29         2.39\n",
       "1923   CSCO       2019-07-27         3.09\n",
       "2136   CSCO       2020-07-25         3.20\n",
       "2356   CSCO       2021-07-31         3.22\n",
       "2578   CSCO       2022-07-30         3.36\n",
       "2801   CSCO       2023-07-29         3.88\n",
       "2982   CSCO       2024-07-27         3.73"
      ]
     },
     "execution_count": 41,
     "metadata": {},
     "output_type": "execute_result"
    }
   ],
   "source": [
    "data[(data.symbol == 'CSCO')][['symbol', 'fiscalDateEnding', 'reportedEPS']]"
   ]
  },
  {
   "cell_type": "markdown",
   "id": "9c62264b",
   "metadata": {},
   "source": [
    "We can even load and check the original datasets to see if we did something wrong in our merging and dataset creation operations:"
   ]
  },
  {
   "cell_type": "code",
   "execution_count": 57,
   "id": "0e5241dc",
   "metadata": {},
   "outputs": [
    {
     "data": {
      "text/html": [
       "<div>\n",
       "<style scoped>\n",
       "    .dataframe tbody tr th:only-of-type {\n",
       "        vertical-align: middle;\n",
       "    }\n",
       "\n",
       "    .dataframe tbody tr th {\n",
       "        vertical-align: top;\n",
       "    }\n",
       "\n",
       "    .dataframe thead th {\n",
       "        text-align: right;\n",
       "    }\n",
       "</style>\n",
       "<table border=\"1\" class=\"dataframe\">\n",
       "  <thead>\n",
       "    <tr style=\"text-align: right;\">\n",
       "      <th></th>\n",
       "      <th>fiscalDateEnding</th>\n",
       "      <th>symbol</th>\n",
       "    </tr>\n",
       "  </thead>\n",
       "  <tbody>\n",
       "    <tr>\n",
       "      <th>1822</th>\n",
       "      <td>2018-07-28</td>\n",
       "      <td>CSCO</td>\n",
       "    </tr>\n",
       "  </tbody>\n",
       "</table>\n",
       "</div>"
      ],
      "text/plain": [
       "     fiscalDateEnding symbol\n",
       "1822       2018-07-28   CSCO"
      ]
     },
     "execution_count": 57,
     "metadata": {},
     "output_type": "execute_result"
    }
   ],
   "source": [
    "income_data = pd.read_csv('../data/raw/income_statement_annual.csv')\n",
    "income_data[(income_data['symbol'] == 'CSCO') & (income_data.fiscalDateEnding.str.contains('2018'))][['fiscalDateEnding', 'symbol']]"
   ]
  },
  {
   "cell_type": "code",
   "execution_count": 58,
   "id": "9045f867",
   "metadata": {},
   "outputs": [
    {
     "data": {
      "text/html": [
       "<div>\n",
       "<style scoped>\n",
       "    .dataframe tbody tr th:only-of-type {\n",
       "        vertical-align: middle;\n",
       "    }\n",
       "\n",
       "    .dataframe tbody tr th {\n",
       "        vertical-align: top;\n",
       "    }\n",
       "\n",
       "    .dataframe thead th {\n",
       "        text-align: right;\n",
       "    }\n",
       "</style>\n",
       "<table border=\"1\" class=\"dataframe\">\n",
       "  <thead>\n",
       "    <tr style=\"text-align: right;\">\n",
       "      <th></th>\n",
       "      <th>fiscalDateEnding</th>\n",
       "      <th>symbol</th>\n",
       "    </tr>\n",
       "  </thead>\n",
       "  <tbody>\n",
       "    <tr>\n",
       "      <th>1132</th>\n",
       "      <td>2018-07-29</td>\n",
       "      <td>CSCO</td>\n",
       "    </tr>\n",
       "  </tbody>\n",
       "</table>\n",
       "</div>"
      ],
      "text/plain": [
       "     fiscalDateEnding symbol\n",
       "1132       2018-07-29   CSCO"
      ]
     },
     "execution_count": 58,
     "metadata": {},
     "output_type": "execute_result"
    }
   ],
   "source": [
    "balance_data = pd.read_csv('../data/raw/balance_sheet_annual.csv')\n",
    "balance_data[(balance_data['symbol'] == 'CSCO') & (balance_data.fiscalDateEnding.str.contains('2018'))][['fiscalDateEnding', 'symbol']]"
   ]
  },
  {
   "cell_type": "markdown",
   "id": "f8315ff3",
   "metadata": {},
   "source": [
    "Now, I understand why we do not have data for Cisco in 2018 in our dataset. We can see that the 2018 *fiscalDateEnding* for 2018 are not exactly the same between what we have in the balance sheet data (2018-07-29) and the income statement data (2018-07-28). The problem is that I used and inner join merging operation on the exact value of the *fiscalDateEnding* variable to merge those two datasets. 2018 was not able to merged properly and was therefore excluded from the dataset. This means that, we should probably try to merge on YYYY-MM instead of YYYY-MM-DD. This can be easily implemented in the code. Note that this may also fix the issue for other observations."
   ]
  },
  {
   "cell_type": "markdown",
   "id": "e40e5fdc",
   "metadata": {},
   "source": [
    "**Independent variables**"
   ]
  },
  {
   "cell_type": "markdown",
   "id": "797eb911",
   "metadata": {},
   "source": [
    "### Data Distribution"
   ]
  },
  {
   "cell_type": "markdown",
   "id": "28caa43a",
   "metadata": {},
   "source": [
    "#### Box-plots"
   ]
  },
  {
   "cell_type": "markdown",
   "id": "0070767d",
   "metadata": {},
   "source": [
    "### Correlation Analysis"
   ]
  },
  {
   "cell_type": "markdown",
   "id": "30559917",
   "metadata": {},
   "source": [
    "#### Correlation Matrix"
   ]
  },
  {
   "cell_type": "markdown",
   "id": "443855c5",
   "metadata": {},
   "source": [
    "## Insights gained\n",
    "\n",
    "Let's summarize the insights we gained from EDA and list the next actions we aleady identified.\n",
    "\n",
    "- Small dataset with ~3k observations\n",
    "- 67 features including the target, 63 of which are numerical\n",
    "- 2 non-numerical features to ID each observation\n",
    "- 2 non-numerical features to define the sector and industry the company is evolving in. We may need to OHE them which would results in many more features.\n",
    "- 1099 missing values for the target variable which was expected\n",
    "- 2018 Cisco issue due to exact data merging between balance sheet data and income statement data. This lead to missing target value in 2013. Code must be fixed by merging on YYYY-MM instead."
   ]
  },
  {
   "cell_type": "markdown",
   "id": "ac9475a3",
   "metadata": {},
   "source": []
  }
 ],
 "metadata": {
  "kernelspec": {
   "display_name": "buy_stock_decision",
   "language": "python",
   "name": "python3"
  },
  "language_info": {
   "codemirror_mode": {
    "name": "ipython",
    "version": 3
   },
   "file_extension": ".py",
   "mimetype": "text/x-python",
   "name": "python",
   "nbconvert_exporter": "python",
   "pygments_lexer": "ipython3",
   "version": "3.13.2"
  }
 },
 "nbformat": 4,
 "nbformat_minor": 5
}
